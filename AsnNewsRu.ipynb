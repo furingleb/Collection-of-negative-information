{
 "cells": [
  {
   "cell_type": "code",
   "execution_count": 1,
   "metadata": {
    "collapsed": true
   },
   "outputs": [],
   "source": [
    "import time as tm\n",
    "import datetime as dt\n",
    "from bs4 import BeautifulSoup\n",
    "import requests\n",
    "import pandas as pd"
   ]
  },
  {
   "cell_type": "code",
   "execution_count": 2,
   "metadata": {},
   "outputs": [
    {
     "name": "stdout",
     "output_type": "stream",
     "text": [
      "<Response [200]>\n"
     ]
    }
   ],
   "source": [
    "#http://www.asn-news.ru/rating/company/441?type=company - общая \n",
    "#http://www.asn-news.ru/rating/company/441?page=1&type=company#review1 - со страницами\n",
    "\n",
    "df = pd.DataFrame(columns=['Заголовок', 'Статья', 'Дата'])\n",
    "\n",
    "url_start = 'http://www.asn-news.ru/rating/company/441?type=company'\n",
    "\n",
    "page_start = requests.get(url_start) #Если 200 - то сработало правильно все!\n",
    "\n",
    "soup_start = BeautifulSoup(page_start.text, \"html.parser\") #Парсим страницу добывая её листинг #print(soup)\n",
    "\n",
    "print(page_start)\n"
   ]
  },
  {
   "cell_type": "code",
   "execution_count": 92,
   "metadata": {
    "scrolled": true
   },
   "outputs": [
    {
     "name": "stdout",
     "output_type": "stream",
     "text": [
      "Всего будет обработанно  40 страниц(а)\n",
      "URL =  http://www.asn-news.ru/rating/company/441?page=1&type=company#review1\n",
      "Статус:  200\n",
      "URL =  http://www.asn-news.ru/rating/company/441?page=2&type=company#review1\n",
      "Статус:  200\n",
      "URL =  http://www.asn-news.ru/rating/company/441?page=3&type=company#review1\n",
      "Статус:  200\n",
      "URL =  http://www.asn-news.ru/rating/company/441?page=4&type=company#review1\n",
      "Статус:  200\n",
      "URL =  http://www.asn-news.ru/rating/company/441?page=5&type=company#review1\n",
      "Статус:  200\n",
      "URL =  http://www.asn-news.ru/rating/company/441?page=6&type=company#review1\n",
      "Статус:  200\n",
      "URL =  http://www.asn-news.ru/rating/company/441?page=7&type=company#review1\n",
      "Статус:  200\n",
      "URL =  http://www.asn-news.ru/rating/company/441?page=8&type=company#review1\n",
      "Статус:  200\n",
      "URL =  http://www.asn-news.ru/rating/company/441?page=9&type=company#review1\n",
      "Статус:  200\n",
      "URL =  http://www.asn-news.ru/rating/company/441?page=10&type=company#review1\n",
      "Статус:  200\n",
      "URL =  http://www.asn-news.ru/rating/company/441?page=11&type=company#review1\n",
      "Статус:  200\n",
      "URL =  http://www.asn-news.ru/rating/company/441?page=12&type=company#review1\n",
      "Статус:  200\n",
      "URL =  http://www.asn-news.ru/rating/company/441?page=13&type=company#review1\n",
      "Статус:  200\n",
      "URL =  http://www.asn-news.ru/rating/company/441?page=14&type=company#review1\n",
      "Статус:  200\n",
      "URL =  http://www.asn-news.ru/rating/company/441?page=15&type=company#review1\n",
      "Статус:  200\n",
      "URL =  http://www.asn-news.ru/rating/company/441?page=16&type=company#review1\n",
      "Статус:  200\n",
      "URL =  http://www.asn-news.ru/rating/company/441?page=17&type=company#review1\n",
      "Статус:  200\n",
      "URL =  http://www.asn-news.ru/rating/company/441?page=18&type=company#review1\n",
      "Статус:  200\n",
      "URL =  http://www.asn-news.ru/rating/company/441?page=19&type=company#review1\n",
      "Статус:  200\n",
      "URL =  http://www.asn-news.ru/rating/company/441?page=20&type=company#review1\n",
      "Статус:  200\n",
      "URL =  http://www.asn-news.ru/rating/company/441?page=21&type=company#review1\n",
      "Статус:  200\n",
      "URL =  http://www.asn-news.ru/rating/company/441?page=22&type=company#review1\n",
      "Статус:  200\n",
      "URL =  http://www.asn-news.ru/rating/company/441?page=23&type=company#review1\n",
      "Статус:  200\n",
      "URL =  http://www.asn-news.ru/rating/company/441?page=24&type=company#review1\n",
      "Статус:  200\n",
      "URL =  http://www.asn-news.ru/rating/company/441?page=25&type=company#review1\n",
      "Статус:  200\n",
      "URL =  http://www.asn-news.ru/rating/company/441?page=26&type=company#review1\n",
      "Статус:  200\n",
      "URL =  http://www.asn-news.ru/rating/company/441?page=27&type=company#review1\n",
      "Статус:  200\n",
      "URL =  http://www.asn-news.ru/rating/company/441?page=28&type=company#review1\n",
      "Статус:  200\n",
      "URL =  http://www.asn-news.ru/rating/company/441?page=29&type=company#review1\n",
      "Статус:  200\n",
      "URL =  http://www.asn-news.ru/rating/company/441?page=30&type=company#review1\n",
      "Статус:  200\n",
      "URL =  http://www.asn-news.ru/rating/company/441?page=31&type=company#review1\n",
      "Статус:  200\n",
      "URL =  http://www.asn-news.ru/rating/company/441?page=32&type=company#review1\n",
      "Статус:  200\n",
      "URL =  http://www.asn-news.ru/rating/company/441?page=33&type=company#review1\n",
      "Статус:  200\n",
      "URL =  http://www.asn-news.ru/rating/company/441?page=34&type=company#review1\n",
      "Статус:  200\n",
      "URL =  http://www.asn-news.ru/rating/company/441?page=35&type=company#review1\n",
      "Статус:  200\n",
      "URL =  http://www.asn-news.ru/rating/company/441?page=36&type=company#review1\n",
      "Статус:  200\n",
      "URL =  http://www.asn-news.ru/rating/company/441?page=37&type=company#review1\n",
      "Статус:  200\n",
      "URL =  http://www.asn-news.ru/rating/company/441?page=38&type=company#review1\n",
      "Статус:  200\n",
      "URL =  http://www.asn-news.ru/rating/company/441?page=39&type=company#review1\n",
      "Статус:  200\n",
      "URL =  http://www.asn-news.ru/rating/company/441?page=40&type=company#review1\n",
      "Статус:  200\n",
      "Wall time: 12.9 s\n"
     ]
    }
   ],
   "source": [
    "%%time\n",
    "\n",
    "item = []\n",
    "new_item = []\n",
    "\n",
    "post = []\n",
    "new_post = []\n",
    "\n",
    "time = []\n",
    "new_time = []\n",
    "\n",
    "mas = []\n",
    "\n",
    "count_page=int(40)+1 #42\n",
    "print('Всего будет обработанно ', count_page-1 ,'страниц(а)')\n",
    "\n",
    "for k in range (1, count_page):#count_page #################!!!!!!!!\n",
    "    site_1 = ['http://www.asn-news.ru/rating/company/441?page=']\n",
    "    site_2 = ['&type=company#review1']\n",
    "    url = site_1[0]+str(k)+site_2[0]\n",
    "    print('URL = ', url)\n",
    "\n",
    "    try:\n",
    "        page = requests.get(url, timeout=5)\n",
    "    except:\n",
    "        try:\n",
    "            page = requests.get(url, timeout=60)\n",
    "        except:\n",
    "            mas.append(k)\n",
    "            \n",
    "    print(\"Статус: \",page.status_code) #Если 200 - то сработало правильно все!\n",
    "\n",
    "    soup = BeautifulSoup(page.text, \"html.parser\") #Парсим страницу добывая её листинг #print(soup)\n",
    "    \n",
    "    obs = soup.findAll('div', class_='main_body')\n",
    "    times = soup.findAll('div', class_='dashboard-post__date') #Функция поиска - времени\n",
    "    #Всего 10 записей, индексы 0 - 9  \n",
    "    kl_stat = 10\n",
    "    \n",
    "    for i in range(kl_stat): #настроить подсчет записей\n",
    "        new_item.append(obs[i].a.text)\n",
    "        ############################\n",
    "        new_post.append(obs[i].p.text)\n",
    "        ############################\n",
    "        new_time.append(times[i].text.replace(\" \",\"\").replace(\"\\n\",\"\"))\n",
    "    \n",
    "    for ii in range((k-1)*kl_stat, k*kl_stat ): # поочередно\n",
    "        new_item[ii] = new_item[ii].replace('\\t',' ').replace('\\n',' ').replace('\\xa0',' ').strip()\n",
    "        new_post[ii] = new_post[ii].replace('\\t','').replace('\\n',' ').replace('\\xa0','').replace('\\r','').strip()\n",
    "        new_time[ii] = new_time[ii].replace('\\t',' ').replace('\\n',' ').replace('\\xa0',' ')\n",
    "\n",
    "        df.loc[ii]=[new_item[ii],new_post[ii],new_time[ii]] #записываем новыми строками данные \n"
   ]
  },
  {
   "cell_type": "code",
   "execution_count": 94,
   "metadata": {},
   "outputs": [
    {
     "name": "stdout",
     "output_type": "stream",
     "text": [
      "END\n"
     ]
    }
   ],
   "source": [
    "df.reset_index(inplace=True) #Удаляем старую индексацию\n",
    "del df['index']\n",
    "df.to_excel('A_AsnNewsRu.xlsx') #Сохраняем информацию в первичный файл \n",
    "\n",
    "print('END')"
   ]
  },
  {
   "cell_type": "code",
   "execution_count": null,
   "metadata": {
    "collapsed": true
   },
   "outputs": [],
   "source": []
  }
 ],
 "metadata": {
  "kernelspec": {
   "display_name": "Python 3",
   "language": "python",
   "name": "python3"
  },
  "language_info": {
   "codemirror_mode": {
    "name": "ipython",
    "version": 3
   },
   "file_extension": ".py",
   "mimetype": "text/x-python",
   "name": "python",
   "nbconvert_exporter": "python",
   "pygments_lexer": "ipython3",
   "version": "3.6.1"
  }
 },
 "nbformat": 4,
 "nbformat_minor": 2
}
