{
 "cells": [
  {
   "cell_type": "code",
   "execution_count": 1,
   "metadata": {},
   "outputs": [],
   "source": [
    "import numpy as np\n",
    "import pandas as pd\n",
    "import seaborn as sns\n",
    "import matplotlib.pyplot as plt"
   ]
  },
  {
   "cell_type": "code",
   "execution_count": 2,
   "metadata": {},
   "outputs": [],
   "source": [
    "import re\n",
    "import time\n",
    "import nltk\n",
    "import pickle\n",
    "import chardet\n",
    "from collections import Counter\n",
    "\n",
    "import lightgbm\n",
    "\n",
    "from sklearn.preprocessing import OneHotEncoder\n",
    "from sklearn.model_selection import train_test_split\n",
    "from sklearn.feature_extraction.text import TfidfVectorizer\n",
    "from sklearn.metrics import accuracy_score, roc_auc_score, classification_report, confusion_matrix, plot_confusion_matrix"
   ]
  },
  {
   "cell_type": "markdown",
   "metadata": {},
   "source": [
    "## Load and train existing model"
   ]
  },
  {
   "cell_type": "code",
   "execution_count": 4,
   "metadata": {},
   "outputs": [],
   "source": [
    "def concate_df(df_list, drop_cols=['Unnamed: 0']):\n",
    "    \"\"\"\n",
    "        Concatenates several data frames along first axis.\n",
    "        Also generate target vector corresponding to data frame position in the list.\n",
    "        \n",
    "        drop_cols - list of column names for removing.\n",
    "    \"\"\"\n",
    "    y = []    # target vector\n",
    "    for i, df in enumerate(df_list):\n",
    "        y.extend([i] * df.shape[0])\n",
    "    \n",
    "    data = pd.concat(df_list, axis=0, ignore_index=True)\n",
    "    data.drop(columns=drop_cols, inplace=True)\n",
    "\n",
    "    return data, y\n",
    "\n",
    "\n",
    "def build_corpus(df, col_indx=0):\n",
    "    \"\"\"\n",
    "        Creates list of texts.\n",
    "        \n",
    "        col_indx - index of column that contains texts.\n",
    "    \"\"\"\n",
    "    corpus = []\n",
    "    for i in range(df.shape[0]):\n",
    "        value = df.iloc[i, col_indx]\n",
    "        if type(value) == str:\n",
    "            corpus.append(value)\n",
    "        else:\n",
    "            corpus.append('')\n",
    "    return corpus\n",
    "\n",
    "\n",
    "def clear_line(line):\n",
    "    \"\"\"\n",
    "        Reading file of key words.\n",
    "    \"\"\"\n",
    "    line = line.lower()\n",
    "    line = line.replace('\\n', '')       # replace new line symbol\n",
    "    line = re.split('[,:] *', line)     # split line by ', *'\n",
    "    if line[-1] == '':                  # remove empty element in the last position\n",
    "        line.pop()\n",
    "    \n",
    "    return line\n",
    "\n",
    "\n",
    "def read_patterns_file(path_file, encoding='utf-8'):\n",
    "    \"\"\"\n",
    "        Reads file of key word patterns. Each group of patterns must be devided by empty line.\n",
    "        Return dictionary of pattern group indices and corresponding list of patterns.\n",
    "    \"\"\"\n",
    "    k = 0\n",
    "    patterns = {k: []}\n",
    "    with open(path_file, 'r', encoding=encoding) as file:\n",
    "        reader = (line for line in file.readlines())\n",
    "        \n",
    "        while True:\n",
    "            try:\n",
    "                line = next(reader)\n",
    "                new_line = clear_line(line)\n",
    "                \n",
    "                if len(new_line) == 0:\n",
    "                    k += 1\n",
    "                    patterns[k] = []\n",
    "                else:\n",
    "                    patterns[k].extend(new_line)\n",
    "                    \n",
    "            except Exception as error:\n",
    "                print(error)\n",
    "                break\n",
    "                \n",
    "    return patterns\n",
    "\n",
    "\n",
    "def create_add_features(corpus, patterns):\n",
    "    \"\"\"\n",
    "        Creates additional feature matrix based on cooccurance of pattern words.\n",
    "        \n",
    "        patterns - dictionary of pattern group indices and corresponding list of patterns.\n",
    "    \"\"\"\n",
    "    all_patterns = []\n",
    "    feature_names = []\n",
    "    for ptrn in patterns.values():\n",
    "        feature_names.extend(ptrn)\n",
    "        all_patterns.extend([' ' + w + ' ' for w in ptrn])\n",
    "        \n",
    "    add_matrix = [0] * len(corpus)\n",
    "    for pattern in all_patterns:\n",
    "        tmp_feature = [0] * len(corpus)\n",
    "        for i in range(len(corpus)):\n",
    "            f = len(re.findall(pattern, corpus[i]))\n",
    "            if f > 0:\n",
    "                tmp_feature[i] = f\n",
    "        add_matrix = np.vstack((add_matrix, tmp_feature))\n",
    "    \n",
    "    return add_matrix[1:, :].T, feature_names\n",
    "\n",
    "\n",
    "def batch_predict(model, df, data_encoder, feature_mask=None, patterns=None, text_col=0, batch_size=10000):\n",
    "    \"\"\"\n",
    "        Performs batch prediction mode.\n",
    "        \n",
    "        Params:\n",
    "            model        - trained model that can make classification.\n",
    "            df           - data frame which rows need to be classified.\n",
    "            data_encoder - object for encoding corpus into numbers.\n",
    "            feature_mask - bool array for feature selection.\n",
    "            patterns     - dictionary of pattern group indices and corresponding list of word patterns.\n",
    "                           Use it if you need add new features based on word patterns.\n",
    "            text_col     - column index that contains text.\n",
    "            batch_size   - number of rows for one pass.\n",
    "    \"\"\"\n",
    "    pred = []\n",
    "    for i in range(0, df.shape[0], batch_size):\n",
    "        tmp_corpus = build_corpus(df.iloc[i:i + batch_size, :], col_indx=text_col)\n",
    "        x_tmp = data_encoder.transform(tmp_corpus)\n",
    "        \n",
    "        if patterns:\n",
    "            tmp_add_features, _ = create_add_features(corpus=tmp_corpus, patterns=patterns)\n",
    "            x_tmp = np.hstack((x_tmp.toarray(), tmp_add_features))\n",
    "            \n",
    "        if type(feature_mask) == np.ndarray:\n",
    "            x_tmp = x_tmp[:, feature_mask]\n",
    "            \n",
    "        pred.extend(np.argmax(model.predict(x_tmp), axis=1))\n",
    "        \n",
    "    return pred"
   ]
  },
  {
   "cell_type": "code",
   "execution_count": 5,
   "metadata": {},
   "outputs": [],
   "source": [
    "df1 = pd.read_excel('df_invest_neg_morf.xlsx')\n",
    "df2 = pd.read_excel('df_pens_neg_morf.xlsx')\n",
    "df3 = pd.read_excel('df_strah_neg_morf.xlsx')\n",
    "df4 = pd.read_excel('Благо4.xlsx')\n",
    "\n",
    "df1_new = pd.read_excel('Общий файл отзывов_4_1.xlsx')\n",
    "df2_new = pd.read_excel('Общий файл отзывов_4_2.xlsx')"
   ]
  },
  {
   "cell_type": "code",
   "execution_count": 6,
   "metadata": {},
   "outputs": [
    {
     "name": "stdout",
     "output_type": "stream",
     "text": [
      "\n"
     ]
    }
   ],
   "source": [
    "# prepare data for train/test\n",
    "data, y = concate_df(df_list=[df1, df2, df3, df4])\n",
    "corpus = build_corpus(data)\n",
    "patterns = read_patterns_file(path_file='Метки.txt')\n",
    "additional_features, add_feat_names = create_add_features(corpus=corpus, patterns=patterns)\n",
    "\n",
    "stopwords = nltk.corpus.stopwords.words('russian')\n",
    "vectorizer = TfidfVectorizer(min_df=20, stop_words=stopwords)\n",
    "X = vectorizer.fit_transform(corpus)\n",
    "\n",
    "X_plus = np.hstack((X.toarray(), additional_features))\n",
    "\n",
    "X_train, X_test, y_train, y_test = train_test_split(X_plus, y, test_size=0.33, random_state=42)\n",
    "lgb_train = lightgbm.Dataset(X_train, y_train)\n",
    "lgb_eval = lightgbm.Dataset(X_test, y_test, reference=lgb_train)"
   ]
  },
  {
   "cell_type": "code",
   "execution_count": null,
   "metadata": {},
   "outputs": [],
   "source": []
  },
  {
   "cell_type": "code",
   "execution_count": null,
   "metadata": {},
   "outputs": [],
   "source": []
  },
  {
   "cell_type": "code",
   "execution_count": 7,
   "metadata": {},
   "outputs": [
    {
     "name": "stdout",
     "output_type": "stream",
     "text": [
      "Training until validation scores don't improve for 10 rounds.\n",
      "[10]\tvalid_0's multi_logloss: 0.368493\n",
      "[20]\tvalid_0's multi_logloss: 0.233353\n",
      "[30]\tvalid_0's multi_logloss: 0.188921\n",
      "[40]\tvalid_0's multi_logloss: 0.169686\n",
      "[50]\tvalid_0's multi_logloss: 0.16087\n",
      "[60]\tvalid_0's multi_logloss: 0.156857\n",
      "[70]\tvalid_0's multi_logloss: 0.152883\n",
      "[80]\tvalid_0's multi_logloss: 0.151864\n",
      "[90]\tvalid_0's multi_logloss: 0.151162\n",
      "Early stopping, best iteration is:\n",
      "[85]\tvalid_0's multi_logloss: 0.151048\n",
      "\n",
      "Train duration: 6.712383985519409 s\n"
     ]
    }
   ],
   "source": [
    "params = {\n",
    "    'boosting_type': 'gbdt',\n",
    "    'objective': 'multiclassova',\n",
    "    'num_class': 4, \n",
    "    'metric': 'softmax', \n",
    "    'num_leaves': 6,\n",
    "    'learning_rate': 0.1,\n",
    "    'feature_fraction': 1.,\n",
    "    'bagging_fraction': 0.8,\n",
    "    'bagging_freq': 5, \n",
    "    'reg_alpha': 3.0, \n",
    "    'is_unbalance': True,\n",
    "    'verbose': 0\n",
    "}\n",
    "\n",
    "start = time.time()\n",
    "gbm = lightgbm.train(params,\n",
    "                     lgb_train,\n",
    "                     num_boost_round=110,\n",
    "                     valid_sets=lgb_eval,\n",
    "                     early_stopping_rounds=10, \n",
    "                     verbose_eval=10)\n",
    "end = time.time()\n",
    "print('\\nTrain duration: {} s'.format(end - start))"
   ]
  },
  {
   "cell_type": "code",
   "execution_count": 8,
   "metadata": {},
   "outputs": [
    {
     "name": "stdout",
     "output_type": "stream",
     "text": [
      "Accuracy on train:  0.9403156384505021\n",
      "Accuracy on test:  0.9213744903902155\n"
     ]
    }
   ],
   "source": [
    "print('Accuracy on train: ', accuracy_score(y_train, np.argmax(gbm.predict(X_train), axis=1)))\n",
    "print('Accuracy on test: ', accuracy_score(y_test, np.argmax(gbm.predict(X_test), axis=1)))"
   ]
  },
  {
   "cell_type": "code",
   "execution_count": 9,
   "metadata": {},
   "outputs": [
    {
     "name": "stdout",
     "output_type": "stream",
     "text": [
      "              precision    recall  f1-score   support\n",
      "\n",
      "           0       0.87      0.78      0.82       344\n",
      "           1       0.78      0.90      0.83       330\n",
      "           2       0.98      0.92      0.95      1892\n",
      "           3       0.89      0.98      0.93       868\n",
      "\n",
      "    accuracy                           0.92      3434\n",
      "   macro avg       0.88      0.90      0.88      3434\n",
      "weighted avg       0.93      0.92      0.92      3434\n",
      "\n"
     ]
    }
   ],
   "source": [
    "print(classification_report(y_test, np.argmax(gbm.predict(X_test), axis=1)))"
   ]
  },
  {
   "cell_type": "code",
   "execution_count": 10,
   "metadata": {},
   "outputs": [
    {
     "name": "stdout",
     "output_type": "stream",
     "text": [
      "[[ 267   10    9   58]\n",
      " [   7  297   21    5]\n",
      " [  31   72 1748   41]\n",
      " [   3    4    9  852]]\n"
     ]
    }
   ],
   "source": [
    "print(confusion_matrix(y_test, np.argmax(gbm.predict(X_test), axis=1)))"
   ]
  },
  {
   "cell_type": "code",
   "execution_count": null,
   "metadata": {},
   "outputs": [],
   "source": []
  },
  {
   "cell_type": "code",
   "execution_count": 11,
   "metadata": {},
   "outputs": [
    {
     "data": {
      "text/plain": [
       "array(['фонд\\\\w*', 'электроэнерг\\\\w*', 'инвест\\\\w*', 'облиг\\\\w*',\n",
       "       'депозитар\\\\w*', 'страх\\\\w* част\\\\w*', 'накопит\\\\w* часть',\n",
       "       'перев\\\\w* пенс\\\\w*'], dtype='<U32')"
      ]
     },
     "execution_count": 11,
     "metadata": {},
     "output_type": "execute_result"
    }
   ],
   "source": [
    "np.array(add_feat_names)[(gbm.feature_importance() != 0)[-128:]]"
   ]
  },
  {
   "cell_type": "code",
   "execution_count": 12,
   "metadata": {},
   "outputs": [
    {
     "name": "stdout",
     "output_type": "stream",
     "text": [
      "Train duration: 1.4820847511291504 s\n"
     ]
    }
   ],
   "source": [
    "features_mask = gbm.feature_importance() != 0\n",
    "\n",
    "X_train_p, X_test_p, y_train_p, y_test_p = train_test_split(X_plus[:, features_mask], \n",
    "                                                            y, \n",
    "                                                            test_size=0.33, \n",
    "                                                            random_state=42)\n",
    "\n",
    "lgb_train_p = lightgbm.Dataset(X_train_p, y_train_p)\n",
    "lgb_eval_p = lightgbm.Dataset(X_test_p, y_test_p, reference=lgb_train_p)\n",
    "\n",
    "start_p = time.time()\n",
    "gbm_p = lightgbm.train(params,\n",
    "                       lgb_train_p,\n",
    "                       num_boost_round=110,\n",
    "                       valid_sets=lgb_eval_p,\n",
    "                       early_stopping_rounds=10, \n",
    "                       verbose_eval=False)\n",
    "end_p = time.time()\n",
    "\n",
    "print('Train duration: {} s'.format(end_p - start_p))"
   ]
  },
  {
   "cell_type": "code",
   "execution_count": 14,
   "metadata": {},
   "outputs": [
    {
     "name": "stdout",
     "output_type": "stream",
     "text": [
      "              precision    recall  f1-score   support\n",
      "\n",
      "           0       0.87      0.78      0.82       344\n",
      "           1       0.77      0.90      0.83       330\n",
      "           2       0.98      0.92      0.95      1892\n",
      "           3       0.89      0.98      0.94       868\n",
      "\n",
      "    accuracy                           0.92      3434\n",
      "   macro avg       0.88      0.90      0.88      3434\n",
      "weighted avg       0.93      0.92      0.92      3434\n",
      "\n"
     ]
    }
   ],
   "source": [
    "print(classification_report(y_test_p, np.argmax(gbm_p.predict(X_test_p), axis=1)))"
   ]
  },
  {
   "cell_type": "code",
   "execution_count": null,
   "metadata": {},
   "outputs": [],
   "source": []
  },
  {
   "cell_type": "code",
   "execution_count": 15,
   "metadata": {},
   "outputs": [],
   "source": [
    "pred1 = batch_predict(gbm, df1_new, vectorizer, feature_mask=None, text_col=1, patterns=patterns)\n",
    "pred2 = batch_predict(gbm, df2_new, vectorizer, feature_mask=None, text_col=1, patterns=patterns)"
   ]
  },
  {
   "cell_type": "code",
   "execution_count": 16,
   "metadata": {},
   "outputs": [
    {
     "data": {
      "text/plain": [
       "(Counter({3: 38617, 1: 1611, 0: 824, 2: 3946}),\n",
       " Counter({3: 44268, 0: 715, 2: 2421, 1: 1935}))"
      ]
     },
     "execution_count": 16,
     "metadata": {},
     "output_type": "execute_result"
    }
   ],
   "source": [
    "Counter(pred1), Counter(pred2)"
   ]
  },
  {
   "cell_type": "code",
   "execution_count": null,
   "metadata": {},
   "outputs": [],
   "source": []
  },
  {
   "cell_type": "markdown",
   "metadata": {},
   "source": [
    "## Saving and loading the model"
   ]
  },
  {
   "cell_type": "code",
   "execution_count": 18,
   "metadata": {},
   "outputs": [],
   "source": [
    "### save the model\n",
    "#with open('classifier.pkl', 'wb') as file:\n",
    "#    pickle.dump(gbm, file, protocol=4)"
   ]
  },
  {
   "cell_type": "code",
   "execution_count": 12,
   "metadata": {},
   "outputs": [],
   "source": [
    "# save patterns dictionary\n",
    "#with open('patterns.pkl', 'wb') as file:\n",
    "#    pickle.dump(patterns, file, protocol=4)"
   ]
  },
  {
   "cell_type": "code",
   "execution_count": 13,
   "metadata": {},
   "outputs": [],
   "source": [
    "# save vectorizer\n",
    "#with open('vectorizer.pkl', 'wb') as file:\n",
    "#    pickle.dump(vectorizer, file, protocol=4)"
   ]
  },
  {
   "cell_type": "code",
   "execution_count": 19,
   "metadata": {},
   "outputs": [],
   "source": [
    "# load the model\n",
    "with open('classifier.pkl', 'rb') as file:\n",
    "    clf = pickle.load(file)\n",
    "    \n",
    "# load patterns\n",
    "with open('patterns.pkl', 'rb') as file:\n",
    "    ptr = pickle.load(file)\n",
    "    \n",
    "# load vectorizer\n",
    "with open('vectorizer.pkl', 'rb') as file:\n",
    "    vct = pickle.load(file)"
   ]
  },
  {
   "cell_type": "code",
   "execution_count": 20,
   "metadata": {},
   "outputs": [
    {
     "name": "stdout",
     "output_type": "stream",
     "text": [
      "Accuracy on train:  0.9403156384505021\n",
      "Accuracy on test:  0.9213744903902155\n"
     ]
    }
   ],
   "source": [
    "print('Accuracy on train: ', accuracy_score(y_train, np.argmax(clf.predict(X_train), axis=1)))\n",
    "print('Accuracy on test: ', accuracy_score(y_test, np.argmax(clf.predict(X_test), axis=1)))"
   ]
  },
  {
   "cell_type": "code",
   "execution_count": 21,
   "metadata": {},
   "outputs": [],
   "source": [
    "pred1 = batch_predict(clf, df1_new, vct, feature_mask=None, text_col=1, patterns=ptr)\n",
    "pred2 = batch_predict(clf, df2_new, vct, feature_mask=None, text_col=1, patterns=ptr)"
   ]
  },
  {
   "cell_type": "code",
   "execution_count": 22,
   "metadata": {},
   "outputs": [
    {
     "name": "stdout",
     "output_type": "stream",
     "text": [
      "Counter({3: 38617, 2: 3946, 1: 1611, 0: 824})\n",
      "Counter({3: 44268, 2: 2421, 1: 1935, 0: 715})\n"
     ]
    }
   ],
   "source": [
    "print(Counter(pred1))\n",
    "print(Counter(pred2))"
   ]
  },
  {
   "cell_type": "code",
   "execution_count": null,
   "metadata": {},
   "outputs": [],
   "source": []
  },
  {
   "cell_type": "markdown",
   "metadata": {
    "heading_collapsed": true
   },
   "source": [
    "# Dirty version"
   ]
  },
  {
   "cell_type": "code",
   "execution_count": 158,
   "metadata": {
    "hidden": true
   },
   "outputs": [
    {
     "name": "stdout",
     "output_type": "stream",
     "text": [
      "\n"
     ]
    }
   ],
   "source": [
    "df1 = pd.read_excel('df_invest_neg_morf.xlsx')\n",
    "df2 = pd.read_excel('df_pens_neg_morf.xlsx')\n",
    "df3 = pd.read_excel('df_strah_neg_morf.xlsx')\n",
    "df4 = pd.read_excel('Благо4.xlsx')\n",
    "\n",
    "# target vector\n",
    "y = np.array([0] * df1.shape[0] + [1] * df2.shape[0] + [2] * df3.shape[0] + [3] * df4.shape[0])\n",
    "\n",
    "# deleting useless column\n",
    "data = pd.concat([df1, df2, df3, df4], axis=0, ignore_index=True)\n",
    "data.drop(columns='Unnamed: 0', inplace=True)\n",
    "\n",
    "# creating bag of docs\n",
    "corpus = []\n",
    "for i in range(data.shape[0]):\n",
    "    corpus.append(data.iloc[i, 0])\n",
    "    \n",
    "    \n",
    "def clear_line(line):\n",
    "    line = line.lower()\n",
    "    line = line.replace('\\n', '')       # replace new line symbol\n",
    "    line = re.split('[,:] *', line)     # split line by ', *'\n",
    "    if line[-1] == '':                  # remove empty element in the last position\n",
    "        line.pop()\n",
    "    \n",
    "    return line\n",
    "\n",
    "\n",
    "with open('Метки.txt', 'r', encoding='utf-8') as file:\n",
    "    reader = (line for line in file.readlines())\n",
    "    k = 0\n",
    "    patterns = {k: []}\n",
    "    while True:\n",
    "        try:\n",
    "            line = next(reader)\n",
    "            new_line = clear_line(line)\n",
    "            \n",
    "            if len(new_line) == 0:\n",
    "                k += 1\n",
    "                patterns[k] = []\n",
    "            else:\n",
    "                patterns[k].extend(new_line)\n",
    "                \n",
    "        except Exception as error:\n",
    "            print(error)\n",
    "            break"
   ]
  },
  {
   "cell_type": "code",
   "execution_count": 159,
   "metadata": {
    "hidden": true
   },
   "outputs": [],
   "source": [
    "stopwords = nltk.corpus.stopwords.words('russian')\n",
    "\n",
    "vectorizer = TfidfVectorizer(min_df=20, stop_words=stopwords)\n",
    "X = vectorizer.fit_transform(corpus)\n",
    "\n",
    "all_patterns = []\n",
    "for part in patterns.values():\n",
    "    all_patterns.extend([' ' + w + ' ' for w in part])\n",
    "    \n",
    "add_matrix = [0] * len(corpus)\n",
    "for pattern in all_patterns:\n",
    "    tmp_feature = [0] * len(corpus)\n",
    "    for i in range(len(corpus)):\n",
    "        f = len(re.findall(pattern, corpus[i]))\n",
    "        if f > 0:\n",
    "            tmp_feature[i] = f\n",
    "    add_matrix = np.vstack((add_matrix, tmp_feature))\n",
    "    \n",
    "    \n",
    "add_matrix = add_matrix[1:, :]\n",
    "mtr = add_matrix.T\n",
    "\n",
    "# add to main feature matrix\n",
    "X_plus = np.hstack((X.toarray(), mtr))"
   ]
  },
  {
   "cell_type": "code",
   "execution_count": 160,
   "metadata": {
    "hidden": true
   },
   "outputs": [
    {
     "name": "stdout",
     "output_type": "stream",
     "text": [
      "[1]\tvalid_0's multi_logloss: 0.944567\n",
      "Training until validation scores don't improve for 10 rounds.\n",
      "[2]\tvalid_0's multi_logloss: 0.839938\n",
      "[3]\tvalid_0's multi_logloss: 0.758092\n",
      "[4]\tvalid_0's multi_logloss: 0.697548\n",
      "[5]\tvalid_0's multi_logloss: 0.646442\n",
      "[6]\tvalid_0's multi_logloss: 0.60251\n",
      "[7]\tvalid_0's multi_logloss: 0.565421\n",
      "[8]\tvalid_0's multi_logloss: 0.53285\n",
      "[9]\tvalid_0's multi_logloss: 0.505212\n",
      "[10]\tvalid_0's multi_logloss: 0.481739\n",
      "[11]\tvalid_0's multi_logloss: 0.460911\n",
      "[12]\tvalid_0's multi_logloss: 0.44248\n",
      "[13]\tvalid_0's multi_logloss: 0.425166\n",
      "[14]\tvalid_0's multi_logloss: 0.410968\n",
      "[15]\tvalid_0's multi_logloss: 0.398369\n",
      "[16]\tvalid_0's multi_logloss: 0.386214\n",
      "[17]\tvalid_0's multi_logloss: 0.375499\n",
      "[18]\tvalid_0's multi_logloss: 0.36629\n",
      "[19]\tvalid_0's multi_logloss: 0.358478\n",
      "[20]\tvalid_0's multi_logloss: 0.351239\n",
      "[21]\tvalid_0's multi_logloss: 0.343743\n",
      "[22]\tvalid_0's multi_logloss: 0.337726\n",
      "[23]\tvalid_0's multi_logloss: 0.332489\n",
      "[24]\tvalid_0's multi_logloss: 0.327161\n",
      "[25]\tvalid_0's multi_logloss: 0.322507\n",
      "[26]\tvalid_0's multi_logloss: 0.317293\n",
      "[27]\tvalid_0's multi_logloss: 0.313994\n",
      "[28]\tvalid_0's multi_logloss: 0.309616\n",
      "[29]\tvalid_0's multi_logloss: 0.305406\n",
      "[30]\tvalid_0's multi_logloss: 0.30182\n",
      "[31]\tvalid_0's multi_logloss: 0.299391\n",
      "[32]\tvalid_0's multi_logloss: 0.295822\n",
      "[33]\tvalid_0's multi_logloss: 0.2929\n",
      "[34]\tvalid_0's multi_logloss: 0.289715\n",
      "[35]\tvalid_0's multi_logloss: 0.286462\n",
      "[36]\tvalid_0's multi_logloss: 0.284559\n",
      "[37]\tvalid_0's multi_logloss: 0.282924\n",
      "[38]\tvalid_0's multi_logloss: 0.280077\n",
      "[39]\tvalid_0's multi_logloss: 0.277589\n",
      "[40]\tvalid_0's multi_logloss: 0.275856\n",
      "[41]\tvalid_0's multi_logloss: 0.274287\n",
      "[42]\tvalid_0's multi_logloss: 0.272537\n",
      "[43]\tvalid_0's multi_logloss: 0.271745\n",
      "[44]\tvalid_0's multi_logloss: 0.270036\n",
      "[45]\tvalid_0's multi_logloss: 0.269267\n",
      "[46]\tvalid_0's multi_logloss: 0.267054\n",
      "[47]\tvalid_0's multi_logloss: 0.266315\n",
      "[48]\tvalid_0's multi_logloss: 0.264612\n",
      "[49]\tvalid_0's multi_logloss: 0.262904\n",
      "[50]\tvalid_0's multi_logloss: 0.262043\n",
      "[51]\tvalid_0's multi_logloss: 0.261048\n",
      "[52]\tvalid_0's multi_logloss: 0.259323\n",
      "[53]\tvalid_0's multi_logloss: 0.258465\n",
      "[54]\tvalid_0's multi_logloss: 0.256924\n",
      "[55]\tvalid_0's multi_logloss: 0.25604\n",
      "[56]\tvalid_0's multi_logloss: 0.254977\n",
      "[57]\tvalid_0's multi_logloss: 0.254755\n",
      "[58]\tvalid_0's multi_logloss: 0.253427\n",
      "[59]\tvalid_0's multi_logloss: 0.252699\n",
      "[60]\tvalid_0's multi_logloss: 0.251931\n",
      "[61]\tvalid_0's multi_logloss: 0.252086\n",
      "[62]\tvalid_0's multi_logloss: 0.251298\n",
      "[63]\tvalid_0's multi_logloss: 0.251144\n",
      "[64]\tvalid_0's multi_logloss: 0.25038\n",
      "[65]\tvalid_0's multi_logloss: 0.249299\n",
      "[66]\tvalid_0's multi_logloss: 0.248684\n",
      "[67]\tvalid_0's multi_logloss: 0.247871\n",
      "[68]\tvalid_0's multi_logloss: 0.247147\n",
      "[69]\tvalid_0's multi_logloss: 0.24623\n",
      "[70]\tvalid_0's multi_logloss: 0.245938\n",
      "[71]\tvalid_0's multi_logloss: 0.245252\n",
      "[72]\tvalid_0's multi_logloss: 0.245121\n",
      "[73]\tvalid_0's multi_logloss: 0.245106\n",
      "[74]\tvalid_0's multi_logloss: 0.244688\n",
      "[75]\tvalid_0's multi_logloss: 0.244145\n",
      "[76]\tvalid_0's multi_logloss: 0.244209\n",
      "[77]\tvalid_0's multi_logloss: 0.243483\n",
      "[78]\tvalid_0's multi_logloss: 0.243177\n",
      "[79]\tvalid_0's multi_logloss: 0.242516\n",
      "[80]\tvalid_0's multi_logloss: 0.241924\n",
      "[81]\tvalid_0's multi_logloss: 0.241053\n",
      "[82]\tvalid_0's multi_logloss: 0.239953\n",
      "[83]\tvalid_0's multi_logloss: 0.240434\n",
      "[84]\tvalid_0's multi_logloss: 0.239697\n",
      "[85]\tvalid_0's multi_logloss: 0.239118\n",
      "[86]\tvalid_0's multi_logloss: 0.238957\n",
      "[87]\tvalid_0's multi_logloss: 0.238477\n",
      "[88]\tvalid_0's multi_logloss: 0.238344\n",
      "[89]\tvalid_0's multi_logloss: 0.238078\n",
      "[90]\tvalid_0's multi_logloss: 0.237648\n",
      "[91]\tvalid_0's multi_logloss: 0.237575\n",
      "[92]\tvalid_0's multi_logloss: 0.237318\n",
      "[93]\tvalid_0's multi_logloss: 0.23682\n",
      "[94]\tvalid_0's multi_logloss: 0.236464\n",
      "[95]\tvalid_0's multi_logloss: 0.236242\n",
      "[96]\tvalid_0's multi_logloss: 0.236661\n",
      "[97]\tvalid_0's multi_logloss: 0.236487\n",
      "[98]\tvalid_0's multi_logloss: 0.236814\n",
      "[99]\tvalid_0's multi_logloss: 0.236491\n",
      "[100]\tvalid_0's multi_logloss: 0.236686\n",
      "[101]\tvalid_0's multi_logloss: 0.236544\n",
      "[102]\tvalid_0's multi_logloss: 0.236426\n",
      "[103]\tvalid_0's multi_logloss: 0.236493\n",
      "[104]\tvalid_0's multi_logloss: 0.236493\n",
      "[105]\tvalid_0's multi_logloss: 0.236272\n",
      "Early stopping, best iteration is:\n",
      "[95]\tvalid_0's multi_logloss: 0.236242\n"
     ]
    }
   ],
   "source": [
    "X_train, X_test, y_train, y_test = train_test_split(X_plus, y, test_size=0.33, random_state=42)\n",
    "\n",
    "lgb_train = lightgbm.Dataset(X_train, y_train)\n",
    "lgb_eval = lightgbm.Dataset(X_test, y_test, reference=lgb_train)\n",
    "\n",
    "params = {\n",
    "    'boosting_type': 'gbdt',\n",
    "    'objective': 'multiclassova',\n",
    "    'num_class': 4, \n",
    "    'metric': 'softmax', \n",
    "    'num_leaves': 6,\n",
    "    'learning_rate': 0.1,\n",
    "    'feature_fraction': 1.,\n",
    "    'bagging_fraction': 0.8,\n",
    "    'bagging_freq': 5, \n",
    "    'reg_alpha': 3.0,\n",
    "    'verbose': 0\n",
    "}\n",
    "\n",
    "start = time.time()\n",
    "gbm = lightgbm.train(params,\n",
    "                     lgb_train,\n",
    "                     num_boost_round=110,\n",
    "                     valid_sets=lgb_eval,\n",
    "                     early_stopping_rounds=10)\n",
    "end = time.time()"
   ]
  },
  {
   "cell_type": "code",
   "execution_count": 161,
   "metadata": {
    "hidden": true
   },
   "outputs": [
    {
     "name": "stdout",
     "output_type": "stream",
     "text": [
      "Accuracy on train:  0.9400286944045911\n",
      "Accuracy on test:  0.9213744903902155\n"
     ]
    }
   ],
   "source": [
    "print('Accuracy on train: ', accuracy_score(y_train, np.argmax(gbm.predict(X_train), axis=1)))\n",
    "print('Accuracy on test: ', accuracy_score(y_test, np.argmax(gbm.predict(X_test), axis=1)))"
   ]
  },
  {
   "cell_type": "code",
   "execution_count": 162,
   "metadata": {
    "hidden": true
   },
   "outputs": [
    {
     "data": {
      "image/png": "[encoded data removed]",
      "text/plain": [
       "<Figure size 432x288 with 1 Axes>"
      ]
     },
     "metadata": {
      "needs_background": "light"
     },
     "output_type": "display_data"
    }
   ],
   "source": [
    "plt.plot(gbm.feature_importance());"
   ]
  },
  {
   "cell_type": "code",
   "execution_count": 163,
   "metadata": {
    "hidden": true
   },
   "outputs": [
    {
     "name": "stdout",
     "output_type": "stream",
     "text": [
      "[1]\tvalid_0's multi_logloss: 0.944567\n",
      "Training until validation scores don't improve for 10 rounds.\n",
      "[2]\tvalid_0's multi_logloss: 0.839938\n",
      "[3]\tvalid_0's multi_logloss: 0.758092\n",
      "[4]\tvalid_0's multi_logloss: 0.697548\n",
      "[5]\tvalid_0's multi_logloss: 0.646442\n",
      "[6]\tvalid_0's multi_logloss: 0.60251\n",
      "[7]\tvalid_0's multi_logloss: 0.565421\n",
      "[8]\tvalid_0's multi_logloss: 0.53285\n",
      "[9]\tvalid_0's multi_logloss: 0.505212\n",
      "[10]\tvalid_0's multi_logloss: 0.481739\n",
      "[11]\tvalid_0's multi_logloss: 0.460911\n",
      "[12]\tvalid_0's multi_logloss: 0.44248\n",
      "[13]\tvalid_0's multi_logloss: 0.425166\n",
      "[14]\tvalid_0's multi_logloss: 0.410968\n",
      "[15]\tvalid_0's multi_logloss: 0.398369\n",
      "[16]\tvalid_0's multi_logloss: 0.386214\n",
      "[17]\tvalid_0's multi_logloss: 0.375499\n",
      "[18]\tvalid_0's multi_logloss: 0.36629\n",
      "[19]\tvalid_0's multi_logloss: 0.358478\n",
      "[20]\tvalid_0's multi_logloss: 0.351239\n",
      "[21]\tvalid_0's multi_logloss: 0.343743\n",
      "[22]\tvalid_0's multi_logloss: 0.337726\n",
      "[23]\tvalid_0's multi_logloss: 0.332489\n",
      "[24]\tvalid_0's multi_logloss: 0.327161\n",
      "[25]\tvalid_0's multi_logloss: 0.322507\n",
      "[26]\tvalid_0's multi_logloss: 0.317293\n",
      "[27]\tvalid_0's multi_logloss: 0.313994\n",
      "[28]\tvalid_0's multi_logloss: 0.309616\n",
      "[29]\tvalid_0's multi_logloss: 0.305406\n",
      "[30]\tvalid_0's multi_logloss: 0.30182\n",
      "[31]\tvalid_0's multi_logloss: 0.299391\n",
      "[32]\tvalid_0's multi_logloss: 0.295822\n",
      "[33]\tvalid_0's multi_logloss: 0.2929\n",
      "[34]\tvalid_0's multi_logloss: 0.289715\n",
      "[35]\tvalid_0's multi_logloss: 0.286462\n",
      "[36]\tvalid_0's multi_logloss: 0.284559\n",
      "[37]\tvalid_0's multi_logloss: 0.282924\n",
      "[38]\tvalid_0's multi_logloss: 0.280077\n",
      "[39]\tvalid_0's multi_logloss: 0.277589\n",
      "[40]\tvalid_0's multi_logloss: 0.275856\n",
      "[41]\tvalid_0's multi_logloss: 0.274287\n",
      "[42]\tvalid_0's multi_logloss: 0.272537\n",
      "[43]\tvalid_0's multi_logloss: 0.271745\n",
      "[44]\tvalid_0's multi_logloss: 0.270036\n",
      "[45]\tvalid_0's multi_logloss: 0.269267\n",
      "[46]\tvalid_0's multi_logloss: 0.267054\n",
      "[47]\tvalid_0's multi_logloss: 0.266315\n",
      "[48]\tvalid_0's multi_logloss: 0.264612\n",
      "[49]\tvalid_0's multi_logloss: 0.262904\n",
      "[50]\tvalid_0's multi_logloss: 0.262043\n",
      "[51]\tvalid_0's multi_logloss: 0.261048\n",
      "[52]\tvalid_0's multi_logloss: 0.259323\n",
      "[53]\tvalid_0's multi_logloss: 0.258465\n",
      "[54]\tvalid_0's multi_logloss: 0.256924\n",
      "[55]\tvalid_0's multi_logloss: 0.25604\n",
      "[56]\tvalid_0's multi_logloss: 0.254977\n",
      "[57]\tvalid_0's multi_logloss: 0.254755\n",
      "[58]\tvalid_0's multi_logloss: 0.253427\n",
      "[59]\tvalid_0's multi_logloss: 0.252699\n",
      "[60]\tvalid_0's multi_logloss: 0.251931\n",
      "[61]\tvalid_0's multi_logloss: 0.252086\n",
      "[62]\tvalid_0's multi_logloss: 0.251298\n",
      "[63]\tvalid_0's multi_logloss: 0.251144\n",
      "[64]\tvalid_0's multi_logloss: 0.25038\n",
      "[65]\tvalid_0's multi_logloss: 0.249299\n",
      "[66]\tvalid_0's multi_logloss: 0.248684\n",
      "[67]\tvalid_0's multi_logloss: 0.247871\n",
      "[68]\tvalid_0's multi_logloss: 0.247147\n",
      "[69]\tvalid_0's multi_logloss: 0.24623\n",
      "[70]\tvalid_0's multi_logloss: 0.245938\n",
      "[71]\tvalid_0's multi_logloss: 0.245252\n",
      "[72]\tvalid_0's multi_logloss: 0.245121\n",
      "[73]\tvalid_0's multi_logloss: 0.245106\n",
      "[74]\tvalid_0's multi_logloss: 0.244688\n",
      "[75]\tvalid_0's multi_logloss: 0.244145\n",
      "[76]\tvalid_0's multi_logloss: 0.244209\n",
      "[77]\tvalid_0's multi_logloss: 0.243483\n",
      "[78]\tvalid_0's multi_logloss: 0.243177\n",
      "[79]\tvalid_0's multi_logloss: 0.242516\n",
      "[80]\tvalid_0's multi_logloss: 0.241924\n",
      "[81]\tvalid_0's multi_logloss: 0.241053\n",
      "[82]\tvalid_0's multi_logloss: 0.239953\n",
      "[83]\tvalid_0's multi_logloss: 0.240434\n",
      "[84]\tvalid_0's multi_logloss: 0.239697\n",
      "[85]\tvalid_0's multi_logloss: 0.239118\n",
      "[86]\tvalid_0's multi_logloss: 0.238957\n",
      "[87]\tvalid_0's multi_logloss: 0.238477\n",
      "[88]\tvalid_0's multi_logloss: 0.238344\n",
      "[89]\tvalid_0's multi_logloss: 0.238078\n",
      "[90]\tvalid_0's multi_logloss: 0.237648\n",
      "[91]\tvalid_0's multi_logloss: 0.237575\n",
      "[92]\tvalid_0's multi_logloss: 0.237318\n",
      "[93]\tvalid_0's multi_logloss: 0.23682\n",
      "[94]\tvalid_0's multi_logloss: 0.236464\n",
      "[95]\tvalid_0's multi_logloss: 0.236242\n",
      "[96]\tvalid_0's multi_logloss: 0.236485\n",
      "[97]\tvalid_0's multi_logloss: 0.236429\n",
      "[98]\tvalid_0's multi_logloss: 0.236537\n",
      "[99]\tvalid_0's multi_logloss: 0.236159\n",
      "[100]\tvalid_0's multi_logloss: 0.236224\n",
      "[101]\tvalid_0's multi_logloss: 0.235798\n",
      "[102]\tvalid_0's multi_logloss: 0.236042\n",
      "[103]\tvalid_0's multi_logloss: 0.235623\n",
      "[104]\tvalid_0's multi_logloss: 0.23586\n",
      "[105]\tvalid_0's multi_logloss: 0.23581\n",
      "[106]\tvalid_0's multi_logloss: 0.23588\n",
      "[107]\tvalid_0's multi_logloss: 0.235964\n",
      "[108]\tvalid_0's multi_logloss: 0.236123\n",
      "[109]\tvalid_0's multi_logloss: 0.236092\n",
      "[110]\tvalid_0's multi_logloss: 0.236334\n",
      "Did not meet early stopping. Best iteration is:\n",
      "[103]\tvalid_0's multi_logloss: 0.235623\n"
     ]
    }
   ],
   "source": [
    "features_mask = gbm.feature_importance() != 0\n",
    "\n",
    "X_train_p, X_test_p, y_train_p, y_test_p = train_test_split(X_plus[:, features_mask], y, \n",
    "                                                            test_size=0.33, \n",
    "                                                            random_state=42)\n",
    "\n",
    "lgb_train_p = lightgbm.Dataset(X_train_p, y_train_p)\n",
    "lgb_eval_p = lightgbm.Dataset(X_test_p, y_test_p, reference=lgb_train_p)\n",
    "\n",
    "start_p = time.time()\n",
    "gbm_p = lightgbm.train(params,\n",
    "                       lgb_train_p,\n",
    "                       num_boost_round=110,\n",
    "                       valid_sets=lgb_eval_p,\n",
    "                       early_stopping_rounds=10)\n",
    "\n",
    "end_p = time.time()"
   ]
  },
  {
   "cell_type": "code",
   "execution_count": 164,
   "metadata": {
    "hidden": true
   },
   "outputs": [
    {
     "name": "stdout",
     "output_type": "stream",
     "text": [
      "Accuracy on train:  0.942467718794835\n",
      "Accuracy on test:  0.9210832847990681\n"
     ]
    }
   ],
   "source": [
    "print('Accuracy on train: ', accuracy_score(y_train, np.argmax(gbm_p.predict(X_train_p), axis=1)))\n",
    "print('Accuracy on test: ', accuracy_score(y_test, np.argmax(gbm_p.predict(X_test_p), axis=1)))"
   ]
  },
  {
   "cell_type": "markdown",
   "metadata": {
    "hidden": true
   },
   "source": [
    "## Make predictions on new dataset"
   ]
  },
  {
   "cell_type": "code",
   "execution_count": 165,
   "metadata": {
    "hidden": true
   },
   "outputs": [],
   "source": [
    "df1_new = pd.read_excel('Общий файл отзывов_4_1.xlsx')\n",
    "df2_new = pd.read_excel('Общий файл отзывов_4_2.xlsx')"
   ]
  },
  {
   "cell_type": "code",
   "execution_count": 166,
   "metadata": {
    "hidden": true
   },
   "outputs": [],
   "source": [
    "def prepare_data(df_list):\n",
    "    # union df's along columns and deleting useless column\n",
    "    data_new = pd.concat(df_list, axis=0, ignore_index=True)\n",
    "    data_new.drop(columns='index', inplace=True)\n",
    "    \n",
    "    # deleting NA\n",
    "    data_new.fillna('', inplace=True)\n",
    "    \n",
    "    # creating bag of docs\n",
    "    corpus_new = []\n",
    "    for i in range(data_new.shape[0]):\n",
    "        corpus_new.append(data_new.iloc[i, 0])\n",
    "    \n",
    "    \n",
    "    X_new = vectorizer.transform(corpus_new)\n",
    "        \n",
    "    add_matrix_new = [0] * len(corpus_new)\n",
    "    for pattern in all_patterns:\n",
    "        tmp_feature = [0] * len(corpus_new)\n",
    "        for i in range(len(corpus_new)):\n",
    "            f = len(re.findall(pattern, corpus_new[i]))\n",
    "            if f > 0:\n",
    "                tmp_feature[i] = f\n",
    "        add_matrix_new = np.vstack((add_matrix_new, tmp_feature))\n",
    "        \n",
    "        \n",
    "    add_matrix_new = add_matrix_new[1:, :]\n",
    "    mtr_new = add_matrix_new.T\n",
    "    return np.hstack((X_new.toarray(), mtr_new))"
   ]
  },
  {
   "cell_type": "code",
   "execution_count": 182,
   "metadata": {
    "hidden": true
   },
   "outputs": [],
   "source": [
    "pred1 = []\n",
    "step = 10000\n",
    "for i in range(0, df1_new.shape[0], step):\n",
    "    x_tmp = prepare_data([df1_new.iloc[i:i + step, :]]) #[:, features_mask]\n",
    "    pred1.extend(np.argmax(gbm.predict(x_tmp), axis=1))"
   ]
  },
  {
   "cell_type": "code",
   "execution_count": 183,
   "metadata": {
    "hidden": true
   },
   "outputs": [],
   "source": [
    "pred2 = []\n",
    "step = 10000\n",
    "for i in range(0, df2_new.shape[0], step):\n",
    "    x_tmp = prepare_data([df2_new.iloc[i:i + step, :]]) #[:, features_mask]\n",
    "    pred2.extend(np.argmax(gbm.predict(x_tmp), axis=1))"
   ]
  },
  {
   "cell_type": "code",
   "execution_count": 184,
   "metadata": {
    "hidden": true
   },
   "outputs": [
    {
     "data": {
      "text/plain": [
       "Counter({3: 38998, 0: 523, 2: 4203, 1: 1274})"
      ]
     },
     "execution_count": 184,
     "metadata": {},
     "output_type": "execute_result"
    }
   ],
   "source": [
    "Counter(pred1)"
   ]
  },
  {
   "cell_type": "code",
   "execution_count": 185,
   "metadata": {
    "hidden": true
   },
   "outputs": [
    {
     "data": {
      "text/plain": [
       "Counter({3: 44711, 0: 484, 2: 2592, 1: 1552})"
      ]
     },
     "execution_count": 185,
     "metadata": {},
     "output_type": "execute_result"
    }
   ],
   "source": [
    "Counter(pred2)"
   ]
  },
  {
   "cell_type": "code",
   "execution_count": null,
   "metadata": {
    "hidden": true
   },
   "outputs": [],
   "source": []
  },
  {
   "cell_type": "code",
   "execution_count": 63,
   "metadata": {
    "hidden": true
   },
   "outputs": [],
   "source": [
    "np.savetxt('review_predictions_4_2_1.csv', pred1, delimiter=',', fmt='%.2i')\n",
    "np.savetxt('review_predictions_4_2_2.csv', pred2, delimiter=',', fmt='%.2i')"
   ]
  },
  {
   "cell_type": "code",
   "execution_count": null,
   "metadata": {
    "hidden": true
   },
   "outputs": [],
   "source": []
  }
 ],
 "metadata": {
  "kernelspec": {
   "display_name": "Python 3",
   "language": "python",
   "name": "python3"
  },
  "language_info": {
   "codemirror_mode": {
    "name": "ipython",
    "version": 3
   },
   "file_extension": ".py",
   "mimetype": "text/x-python",
   "name": "python",
   "nbconvert_exporter": "python",
   "pygments_lexer": "ipython3",
   "version": "3.6.2"
  }
 },
 "nbformat": 4,
 "nbformat_minor": 2
}
